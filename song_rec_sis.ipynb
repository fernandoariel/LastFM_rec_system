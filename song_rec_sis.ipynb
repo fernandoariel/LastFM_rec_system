{
  "nbformat": 4,
  "nbformat_minor": 0,
  "metadata": {
    "colab": {
      "name": "song_rec_sis.ipynb",
      "provenance": [],
      "collapsed_sections": [],
      "authorship_tag": "ABX9TyPEP8xlA3Z9t606KNzzYoSA",
      "include_colab_link": true
    },
    "kernelspec": {
      "name": "python3",
      "display_name": "Python 3"
    }
  },
  "cells": [
    {
      "cell_type": "markdown",
      "metadata": {
        "id": "view-in-github",
        "colab_type": "text"
      },
      "source": [
        "<a href=\"https://colab.research.google.com/github/fernandoariel/LastFM_rec_system/blob/main/song_rec_sis.ipynb\" target=\"_parent\"><img src=\"https://colab.research.google.com/assets/colab-badge.svg\" alt=\"Open In Colab\"/></a>"
      ]
    },
    {
      "cell_type": "code",
      "metadata": {
        "id": "Clm5fMPQ8Gf8"
      },
      "source": [
        "import pandas as pd\r\n",
        "import matplotlib.pyplot as plt\r\n",
        "import seaborn as sns\r\n",
        "import numpy as np"
      ],
      "execution_count": 4,
      "outputs": []
    },
    {
      "cell_type": "code",
      "metadata": {
        "id": "eJ7UM49C9Hwi"
      },
      "source": [
        "pip install surprise "
      ],
      "execution_count": null,
      "outputs": []
    },
    {
      "cell_type": "code",
      "metadata": {
        "id": "MH7_sUVz9cM0"
      },
      "source": [
        "from surprise import Dataset, Reader\r\n",
        "from surprise.accuracy import rmse\r\n",
        "from surprise.model_selection import cross_validate, train_test_split\r\n",
        "from surprise import SVD, accuracy\r\n",
        "from surprise import SVDpp, SlopeOne, NMF, NormalPredictor, KNNBaseline, KNNBasic, KNNWithMeans, KNNWithZScore, BaselineOnly, CoClustering"
      ],
      "execution_count": 5,
      "outputs": []
    },
    {
      "cell_type": "code",
      "metadata": {
        "id": "d6qZs5NiE3zl"
      },
      "source": [
        "from sklearn.feature_extraction.text import TfidfVectorizer\r\n",
        "from sklearn.metrics.pairwise import cosine_similarity\r\n",
        "from sklearn.metrics.pairwise import linear_kernel"
      ],
      "execution_count": 36,
      "outputs": []
    },
    {
      "cell_type": "code",
      "metadata": {
        "colab": {
          "base_uri": "https://localhost:8080/"
        },
        "id": "NsN0SlKF9jyC",
        "outputId": "7a548ec6-aaf1-4330-f6b5-e527e52ed8b7"
      },
      "source": [
        "from google.colab import drive\r\n",
        "drive.mount('/content/drive')"
      ],
      "execution_count": 6,
      "outputs": [
        {
          "output_type": "stream",
          "text": [
            "Mounted at /content/drive\n"
          ],
          "name": "stdout"
        }
      ]
    },
    {
      "cell_type": "code",
      "metadata": {
        "colab": {
          "base_uri": "https://localhost:8080/",
          "height": 197
        },
        "id": "7fiRr6T_91bJ",
        "outputId": "e614c862-b84f-4690-dcb4-b74ce6057ff5"
      },
      "source": [
        "artist_data=pd.read_csv('/content/drive/MyDrive/Colab Notebooks/artists.dat', sep='\\t')\r\n",
        "artist_data= artist_data.rename(columns={'id': 'artistID'})\r\n",
        "artist_data.head()"
      ],
      "execution_count": 7,
      "outputs": [
        {
          "output_type": "execute_result",
          "data": {
            "text/html": [
              "<div>\n",
              "<style scoped>\n",
              "    .dataframe tbody tr th:only-of-type {\n",
              "        vertical-align: middle;\n",
              "    }\n",
              "\n",
              "    .dataframe tbody tr th {\n",
              "        vertical-align: top;\n",
              "    }\n",
              "\n",
              "    .dataframe thead th {\n",
              "        text-align: right;\n",
              "    }\n",
              "</style>\n",
              "<table border=\"1\" class=\"dataframe\">\n",
              "  <thead>\n",
              "    <tr style=\"text-align: right;\">\n",
              "      <th></th>\n",
              "      <th>artistID</th>\n",
              "      <th>name</th>\n",
              "      <th>url</th>\n",
              "      <th>pictureURL</th>\n",
              "    </tr>\n",
              "  </thead>\n",
              "  <tbody>\n",
              "    <tr>\n",
              "      <th>0</th>\n",
              "      <td>1</td>\n",
              "      <td>MALICE MIZER</td>\n",
              "      <td>http://www.last.fm/music/MALICE+MIZER</td>\n",
              "      <td>http://userserve-ak.last.fm/serve/252/10808.jpg</td>\n",
              "    </tr>\n",
              "    <tr>\n",
              "      <th>1</th>\n",
              "      <td>2</td>\n",
              "      <td>Diary of Dreams</td>\n",
              "      <td>http://www.last.fm/music/Diary+of+Dreams</td>\n",
              "      <td>http://userserve-ak.last.fm/serve/252/3052066.jpg</td>\n",
              "    </tr>\n",
              "    <tr>\n",
              "      <th>2</th>\n",
              "      <td>3</td>\n",
              "      <td>Carpathian Forest</td>\n",
              "      <td>http://www.last.fm/music/Carpathian+Forest</td>\n",
              "      <td>http://userserve-ak.last.fm/serve/252/40222717...</td>\n",
              "    </tr>\n",
              "    <tr>\n",
              "      <th>3</th>\n",
              "      <td>4</td>\n",
              "      <td>Moi dix Mois</td>\n",
              "      <td>http://www.last.fm/music/Moi+dix+Mois</td>\n",
              "      <td>http://userserve-ak.last.fm/serve/252/54697835...</td>\n",
              "    </tr>\n",
              "    <tr>\n",
              "      <th>4</th>\n",
              "      <td>5</td>\n",
              "      <td>Bella Morte</td>\n",
              "      <td>http://www.last.fm/music/Bella+Morte</td>\n",
              "      <td>http://userserve-ak.last.fm/serve/252/14789013...</td>\n",
              "    </tr>\n",
              "  </tbody>\n",
              "</table>\n",
              "</div>"
            ],
            "text/plain": [
              "   artistID  ...                                         pictureURL\n",
              "0         1  ...    http://userserve-ak.last.fm/serve/252/10808.jpg\n",
              "1         2  ...  http://userserve-ak.last.fm/serve/252/3052066.jpg\n",
              "2         3  ...  http://userserve-ak.last.fm/serve/252/40222717...\n",
              "3         4  ...  http://userserve-ak.last.fm/serve/252/54697835...\n",
              "4         5  ...  http://userserve-ak.last.fm/serve/252/14789013...\n",
              "\n",
              "[5 rows x 4 columns]"
            ]
          },
          "metadata": {
            "tags": []
          },
          "execution_count": 7
        }
      ]
    },
    {
      "cell_type": "code",
      "metadata": {
        "colab": {
          "base_uri": "https://localhost:8080/",
          "height": 197
        },
        "id": "V2C3sKP899ZU",
        "outputId": "8f6e77ef-f06c-482c-cd5d-3112156fb707"
      },
      "source": [
        "user_artist_plays = pd.read_csv(\"/content/drive/MyDrive/Colab Notebooks/lastfm/user_artists.dat\", sep=\"\\t\")\r\n",
        "user_artist_plays.head()"
      ],
      "execution_count": 8,
      "outputs": [
        {
          "output_type": "execute_result",
          "data": {
            "text/html": [
              "<div>\n",
              "<style scoped>\n",
              "    .dataframe tbody tr th:only-of-type {\n",
              "        vertical-align: middle;\n",
              "    }\n",
              "\n",
              "    .dataframe tbody tr th {\n",
              "        vertical-align: top;\n",
              "    }\n",
              "\n",
              "    .dataframe thead th {\n",
              "        text-align: right;\n",
              "    }\n",
              "</style>\n",
              "<table border=\"1\" class=\"dataframe\">\n",
              "  <thead>\n",
              "    <tr style=\"text-align: right;\">\n",
              "      <th></th>\n",
              "      <th>userID</th>\n",
              "      <th>artistID</th>\n",
              "      <th>weight</th>\n",
              "    </tr>\n",
              "  </thead>\n",
              "  <tbody>\n",
              "    <tr>\n",
              "      <th>0</th>\n",
              "      <td>2</td>\n",
              "      <td>51</td>\n",
              "      <td>13883</td>\n",
              "    </tr>\n",
              "    <tr>\n",
              "      <th>1</th>\n",
              "      <td>2</td>\n",
              "      <td>52</td>\n",
              "      <td>11690</td>\n",
              "    </tr>\n",
              "    <tr>\n",
              "      <th>2</th>\n",
              "      <td>2</td>\n",
              "      <td>53</td>\n",
              "      <td>11351</td>\n",
              "    </tr>\n",
              "    <tr>\n",
              "      <th>3</th>\n",
              "      <td>2</td>\n",
              "      <td>54</td>\n",
              "      <td>10300</td>\n",
              "    </tr>\n",
              "    <tr>\n",
              "      <th>4</th>\n",
              "      <td>2</td>\n",
              "      <td>55</td>\n",
              "      <td>8983</td>\n",
              "    </tr>\n",
              "  </tbody>\n",
              "</table>\n",
              "</div>"
            ],
            "text/plain": [
              "   userID  artistID  weight\n",
              "0       2        51   13883\n",
              "1       2        52   11690\n",
              "2       2        53   11351\n",
              "3       2        54   10300\n",
              "4       2        55    8983"
            ]
          },
          "metadata": {
            "tags": []
          },
          "execution_count": 8
        }
      ]
    },
    {
      "cell_type": "code",
      "metadata": {
        "colab": {
          "base_uri": "https://localhost:8080/",
          "height": 197
        },
        "id": "vCQJkX7m-BQY",
        "outputId": "58deee56-891b-45ae-873a-00aedd333b3c"
      },
      "source": [
        "tags=pd.read_csv('/content/drive/MyDrive/Colab Notebooks/lastfm/tags.dat', sep='\\t', engine='python')\r\n",
        "tags.head()"
      ],
      "execution_count": 9,
      "outputs": [
        {
          "output_type": "execute_result",
          "data": {
            "text/html": [
              "<div>\n",
              "<style scoped>\n",
              "    .dataframe tbody tr th:only-of-type {\n",
              "        vertical-align: middle;\n",
              "    }\n",
              "\n",
              "    .dataframe tbody tr th {\n",
              "        vertical-align: top;\n",
              "    }\n",
              "\n",
              "    .dataframe thead th {\n",
              "        text-align: right;\n",
              "    }\n",
              "</style>\n",
              "<table border=\"1\" class=\"dataframe\">\n",
              "  <thead>\n",
              "    <tr style=\"text-align: right;\">\n",
              "      <th></th>\n",
              "      <th>tagID</th>\n",
              "      <th>tagValue</th>\n",
              "    </tr>\n",
              "  </thead>\n",
              "  <tbody>\n",
              "    <tr>\n",
              "      <th>0</th>\n",
              "      <td>1</td>\n",
              "      <td>metal</td>\n",
              "    </tr>\n",
              "    <tr>\n",
              "      <th>1</th>\n",
              "      <td>2</td>\n",
              "      <td>alternative metal</td>\n",
              "    </tr>\n",
              "    <tr>\n",
              "      <th>2</th>\n",
              "      <td>3</td>\n",
              "      <td>goth rock</td>\n",
              "    </tr>\n",
              "    <tr>\n",
              "      <th>3</th>\n",
              "      <td>4</td>\n",
              "      <td>black metal</td>\n",
              "    </tr>\n",
              "    <tr>\n",
              "      <th>4</th>\n",
              "      <td>5</td>\n",
              "      <td>death metal</td>\n",
              "    </tr>\n",
              "  </tbody>\n",
              "</table>\n",
              "</div>"
            ],
            "text/plain": [
              "   tagID           tagValue\n",
              "0      1              metal\n",
              "1      2  alternative metal\n",
              "2      3          goth rock\n",
              "3      4        black metal\n",
              "4      5        death metal"
            ]
          },
          "metadata": {
            "tags": []
          },
          "execution_count": 9
        }
      ]
    },
    {
      "cell_type": "code",
      "metadata": {
        "colab": {
          "base_uri": "https://localhost:8080/",
          "height": 197
        },
        "id": "KAQgJooA-GXT",
        "outputId": "468becaf-35e7-4494-c923-204a7ff268a9"
      },
      "source": [
        "user_taggedartists=pd.read_csv('/content/drive/MyDrive/Colab Notebooks/lastfm/user_taggedartists.dat', sep='\\t')\r\n",
        "user_taggedartists.head()"
      ],
      "execution_count": 10,
      "outputs": [
        {
          "output_type": "execute_result",
          "data": {
            "text/html": [
              "<div>\n",
              "<style scoped>\n",
              "    .dataframe tbody tr th:only-of-type {\n",
              "        vertical-align: middle;\n",
              "    }\n",
              "\n",
              "    .dataframe tbody tr th {\n",
              "        vertical-align: top;\n",
              "    }\n",
              "\n",
              "    .dataframe thead th {\n",
              "        text-align: right;\n",
              "    }\n",
              "</style>\n",
              "<table border=\"1\" class=\"dataframe\">\n",
              "  <thead>\n",
              "    <tr style=\"text-align: right;\">\n",
              "      <th></th>\n",
              "      <th>userID</th>\n",
              "      <th>artistID</th>\n",
              "      <th>tagID</th>\n",
              "      <th>day</th>\n",
              "      <th>month</th>\n",
              "      <th>year</th>\n",
              "    </tr>\n",
              "  </thead>\n",
              "  <tbody>\n",
              "    <tr>\n",
              "      <th>0</th>\n",
              "      <td>2</td>\n",
              "      <td>52</td>\n",
              "      <td>13</td>\n",
              "      <td>1</td>\n",
              "      <td>4</td>\n",
              "      <td>2009</td>\n",
              "    </tr>\n",
              "    <tr>\n",
              "      <th>1</th>\n",
              "      <td>2</td>\n",
              "      <td>52</td>\n",
              "      <td>15</td>\n",
              "      <td>1</td>\n",
              "      <td>4</td>\n",
              "      <td>2009</td>\n",
              "    </tr>\n",
              "    <tr>\n",
              "      <th>2</th>\n",
              "      <td>2</td>\n",
              "      <td>52</td>\n",
              "      <td>18</td>\n",
              "      <td>1</td>\n",
              "      <td>4</td>\n",
              "      <td>2009</td>\n",
              "    </tr>\n",
              "    <tr>\n",
              "      <th>3</th>\n",
              "      <td>2</td>\n",
              "      <td>52</td>\n",
              "      <td>21</td>\n",
              "      <td>1</td>\n",
              "      <td>4</td>\n",
              "      <td>2009</td>\n",
              "    </tr>\n",
              "    <tr>\n",
              "      <th>4</th>\n",
              "      <td>2</td>\n",
              "      <td>52</td>\n",
              "      <td>41</td>\n",
              "      <td>1</td>\n",
              "      <td>4</td>\n",
              "      <td>2009</td>\n",
              "    </tr>\n",
              "  </tbody>\n",
              "</table>\n",
              "</div>"
            ],
            "text/plain": [
              "   userID  artistID  tagID  day  month  year\n",
              "0       2        52     13    1      4  2009\n",
              "1       2        52     15    1      4  2009\n",
              "2       2        52     18    1      4  2009\n",
              "3       2        52     21    1      4  2009\n",
              "4       2        52     41    1      4  2009"
            ]
          },
          "metadata": {
            "tags": []
          },
          "execution_count": 10
        }
      ]
    },
    {
      "cell_type": "markdown",
      "metadata": {
        "id": "bqr7AXPb-Jt0"
      },
      "source": [
        "## 1 - Análisis Exploratorio de datos"
      ]
    },
    {
      "cell_type": "code",
      "metadata": {
        "colab": {
          "base_uri": "https://localhost:8080/",
          "height": 377
        },
        "id": "liBTDgsx-QO4",
        "outputId": "9704253b-2318-4a9e-dadf-b3d0b9e23c3b"
      },
      "source": [
        "top_artist= pd.merge(left=user_artist_plays,right=artist_data, left_on='artistID', right_on='artistID')\r\n",
        "top_artist.groupby(by='name').sum().sort_values(by='weight', ascending=False).head(10)"
      ],
      "execution_count": 11,
      "outputs": [
        {
          "output_type": "execute_result",
          "data": {
            "text/html": [
              "<div>\n",
              "<style scoped>\n",
              "    .dataframe tbody tr th:only-of-type {\n",
              "        vertical-align: middle;\n",
              "    }\n",
              "\n",
              "    .dataframe tbody tr th {\n",
              "        vertical-align: top;\n",
              "    }\n",
              "\n",
              "    .dataframe thead th {\n",
              "        text-align: right;\n",
              "    }\n",
              "</style>\n",
              "<table border=\"1\" class=\"dataframe\">\n",
              "  <thead>\n",
              "    <tr style=\"text-align: right;\">\n",
              "      <th></th>\n",
              "      <th>userID</th>\n",
              "      <th>artistID</th>\n",
              "      <th>weight</th>\n",
              "    </tr>\n",
              "    <tr>\n",
              "      <th>name</th>\n",
              "      <th></th>\n",
              "      <th></th>\n",
              "      <th></th>\n",
              "    </tr>\n",
              "  </thead>\n",
              "  <tbody>\n",
              "    <tr>\n",
              "      <th>Britney Spears</th>\n",
              "      <td>536585</td>\n",
              "      <td>150858</td>\n",
              "      <td>2393140</td>\n",
              "    </tr>\n",
              "    <tr>\n",
              "      <th>Depeche Mode</th>\n",
              "      <td>282739</td>\n",
              "      <td>20304</td>\n",
              "      <td>1301308</td>\n",
              "    </tr>\n",
              "    <tr>\n",
              "      <th>Lady Gaga</th>\n",
              "      <td>621257</td>\n",
              "      <td>54379</td>\n",
              "      <td>1291387</td>\n",
              "    </tr>\n",
              "    <tr>\n",
              "      <th>Christina Aguilera</th>\n",
              "      <td>397259</td>\n",
              "      <td>118844</td>\n",
              "      <td>1058405</td>\n",
              "    </tr>\n",
              "    <tr>\n",
              "      <th>Paramore</th>\n",
              "      <td>416630</td>\n",
              "      <td>198702</td>\n",
              "      <td>963449</td>\n",
              "    </tr>\n",
              "    <tr>\n",
              "      <th>Madonna</th>\n",
              "      <td>424473</td>\n",
              "      <td>28743</td>\n",
              "      <td>921198</td>\n",
              "    </tr>\n",
              "    <tr>\n",
              "      <th>Rihanna</th>\n",
              "      <td>493104</td>\n",
              "      <td>139392</td>\n",
              "      <td>905423</td>\n",
              "    </tr>\n",
              "    <tr>\n",
              "      <th>Shakira</th>\n",
              "      <td>312770</td>\n",
              "      <td>223619</td>\n",
              "      <td>688529</td>\n",
              "    </tr>\n",
              "    <tr>\n",
              "      <th>The Beatles</th>\n",
              "      <td>516563</td>\n",
              "      <td>108960</td>\n",
              "      <td>662116</td>\n",
              "    </tr>\n",
              "    <tr>\n",
              "      <th>Katy Perry</th>\n",
              "      <td>487287</td>\n",
              "      <td>141900</td>\n",
              "      <td>532545</td>\n",
              "    </tr>\n",
              "  </tbody>\n",
              "</table>\n",
              "</div>"
            ],
            "text/plain": [
              "                    userID  artistID   weight\n",
              "name                                         \n",
              "Britney Spears      536585    150858  2393140\n",
              "Depeche Mode        282739     20304  1301308\n",
              "Lady Gaga           621257     54379  1291387\n",
              "Christina Aguilera  397259    118844  1058405\n",
              "Paramore            416630    198702   963449\n",
              "Madonna             424473     28743   921198\n",
              "Rihanna             493104    139392   905423\n",
              "Shakira             312770    223619   688529\n",
              "The Beatles         516563    108960   662116\n",
              "Katy Perry          487287    141900   532545"
            ]
          },
          "metadata": {
            "tags": []
          },
          "execution_count": 11
        }
      ]
    },
    {
      "cell_type": "markdown",
      "metadata": {
        "id": "ngTcmJ-Z-Xtm"
      },
      "source": [
        "La artista más escuchada fue Britney Spears con 2393140 reproducciones. Le siguen Depeche Mode y Lady Gaga con 1301308 y 1291387 reproducciones respectivamente."
      ]
    },
    {
      "cell_type": "markdown",
      "metadata": {
        "id": "jXRub7B_-dZd"
      },
      "source": [
        "¿Como es distribución de cantidad de listens per user?"
      ]
    },
    {
      "cell_type": "code",
      "metadata": {
        "colab": {
          "base_uri": "https://localhost:8080/",
          "height": 377
        },
        "id": "M4G7CCwO-cRd",
        "outputId": "bea939e5-b5c6-46f1-c3a2-248d13697490"
      },
      "source": [
        "user_artist_plays.groupby('userID').sum().sort_values('weight', ascending=False).head(10)"
      ],
      "execution_count": 12,
      "outputs": [
        {
          "output_type": "execute_result",
          "data": {
            "text/html": [
              "<div>\n",
              "<style scoped>\n",
              "    .dataframe tbody tr th:only-of-type {\n",
              "        vertical-align: middle;\n",
              "    }\n",
              "\n",
              "    .dataframe tbody tr th {\n",
              "        vertical-align: top;\n",
              "    }\n",
              "\n",
              "    .dataframe thead th {\n",
              "        text-align: right;\n",
              "    }\n",
              "</style>\n",
              "<table border=\"1\" class=\"dataframe\">\n",
              "  <thead>\n",
              "    <tr style=\"text-align: right;\">\n",
              "      <th></th>\n",
              "      <th>artistID</th>\n",
              "      <th>weight</th>\n",
              "    </tr>\n",
              "    <tr>\n",
              "      <th>userID</th>\n",
              "      <th></th>\n",
              "      <th></th>\n",
              "    </tr>\n",
              "  </thead>\n",
              "  <tbody>\n",
              "    <tr>\n",
              "      <th>757</th>\n",
              "      <td>104544</td>\n",
              "      <td>480039</td>\n",
              "    </tr>\n",
              "    <tr>\n",
              "      <th>2000</th>\n",
              "      <td>354767</td>\n",
              "      <td>468409</td>\n",
              "    </tr>\n",
              "    <tr>\n",
              "      <th>1418</th>\n",
              "      <td>224538</td>\n",
              "      <td>416349</td>\n",
              "    </tr>\n",
              "    <tr>\n",
              "      <th>1642</th>\n",
              "      <td>551588</td>\n",
              "      <td>388251</td>\n",
              "    </tr>\n",
              "    <tr>\n",
              "      <th>1094</th>\n",
              "      <td>201719</td>\n",
              "      <td>379125</td>\n",
              "    </tr>\n",
              "    <tr>\n",
              "      <th>1942</th>\n",
              "      <td>373698</td>\n",
              "      <td>348527</td>\n",
              "    </tr>\n",
              "    <tr>\n",
              "      <th>2071</th>\n",
              "      <td>133895</td>\n",
              "      <td>338400</td>\n",
              "    </tr>\n",
              "    <tr>\n",
              "      <th>2031</th>\n",
              "      <td>106389</td>\n",
              "      <td>329980</td>\n",
              "    </tr>\n",
              "    <tr>\n",
              "      <th>514</th>\n",
              "      <td>93246</td>\n",
              "      <td>329782</td>\n",
              "    </tr>\n",
              "    <tr>\n",
              "      <th>387</th>\n",
              "      <td>156500</td>\n",
              "      <td>322661</td>\n",
              "    </tr>\n",
              "  </tbody>\n",
              "</table>\n",
              "</div>"
            ],
            "text/plain": [
              "        artistID  weight\n",
              "userID                  \n",
              "757       104544  480039\n",
              "2000      354767  468409\n",
              "1418      224538  416349\n",
              "1642      551588  388251\n",
              "1094      201719  379125\n",
              "1942      373698  348527\n",
              "2071      133895  338400\n",
              "2031      106389  329980\n",
              "514        93246  329782\n",
              "387       156500  322661"
            ]
          },
          "metadata": {
            "tags": []
          },
          "execution_count": 12
        }
      ]
    },
    {
      "cell_type": "markdown",
      "metadata": {
        "id": "hqII1OsE-oDe"
      },
      "source": [
        "El usuario de ID 757 es el que más reproducciones realizo"
      ]
    },
    {
      "cell_type": "markdown",
      "metadata": {
        "id": "rTPb35Gp-tC3"
      },
      "source": [
        "¿Es posible ver el género más escuchado?"
      ]
    },
    {
      "cell_type": "code",
      "metadata": {
        "colab": {
          "base_uri": "https://localhost:8080/",
          "height": 347
        },
        "id": "AsxZ4Jkt-TuU",
        "outputId": "26cf3b59-c779-4c04-9bbb-3c60163cf904"
      },
      "source": [
        "# Se decidió trabajar con el archivo \"user_taggedartists.dat\"\r\n",
        "df_tags2 = tags.copy()\r\n",
        "tagID_tagValue = df_tags2.set_index('tagID')['tagValue'].to_dict()\r\n",
        "\r\n",
        "serie_top_ranking_tag = user_taggedartists['tagID'].value_counts(ascending=False)\r\n",
        "\r\n",
        "\r\n",
        "df_top_ranking_tag = serie_top_ranking_tag.to_frame()\r\n",
        "df_top_ranking_tag = df_top_ranking_tag.reset_index()\r\n",
        "\r\n",
        "df_top_ranking_tag.columns = ['tagID','total_listened']\r\n",
        "df_top_ranking_tag['tagID'] = df_top_ranking_tag['tagID'].replace(tagID_tagValue)\r\n",
        "df_top_ranking_tag.columns = ['type_of_music','total_listened']\r\n",
        "df_top_ranking_tag.head(10)"
      ],
      "execution_count": 13,
      "outputs": [
        {
          "output_type": "execute_result",
          "data": {
            "text/html": [
              "<div>\n",
              "<style scoped>\n",
              "    .dataframe tbody tr th:only-of-type {\n",
              "        vertical-align: middle;\n",
              "    }\n",
              "\n",
              "    .dataframe tbody tr th {\n",
              "        vertical-align: top;\n",
              "    }\n",
              "\n",
              "    .dataframe thead th {\n",
              "        text-align: right;\n",
              "    }\n",
              "</style>\n",
              "<table border=\"1\" class=\"dataframe\">\n",
              "  <thead>\n",
              "    <tr style=\"text-align: right;\">\n",
              "      <th></th>\n",
              "      <th>type_of_music</th>\n",
              "      <th>total_listened</th>\n",
              "    </tr>\n",
              "  </thead>\n",
              "  <tbody>\n",
              "    <tr>\n",
              "      <th>0</th>\n",
              "      <td>rock</td>\n",
              "      <td>7503</td>\n",
              "    </tr>\n",
              "    <tr>\n",
              "      <th>1</th>\n",
              "      <td>pop</td>\n",
              "      <td>5418</td>\n",
              "    </tr>\n",
              "    <tr>\n",
              "      <th>2</th>\n",
              "      <td>alternative</td>\n",
              "      <td>5251</td>\n",
              "    </tr>\n",
              "    <tr>\n",
              "      <th>3</th>\n",
              "      <td>electronic</td>\n",
              "      <td>4672</td>\n",
              "    </tr>\n",
              "    <tr>\n",
              "      <th>4</th>\n",
              "      <td>indie</td>\n",
              "      <td>4458</td>\n",
              "    </tr>\n",
              "    <tr>\n",
              "      <th>5</th>\n",
              "      <td>female vocalists</td>\n",
              "      <td>4228</td>\n",
              "    </tr>\n",
              "    <tr>\n",
              "      <th>6</th>\n",
              "      <td>80s</td>\n",
              "      <td>2791</td>\n",
              "    </tr>\n",
              "    <tr>\n",
              "      <th>7</th>\n",
              "      <td>dance</td>\n",
              "      <td>2739</td>\n",
              "    </tr>\n",
              "    <tr>\n",
              "      <th>8</th>\n",
              "      <td>alternative rock</td>\n",
              "      <td>2631</td>\n",
              "    </tr>\n",
              "    <tr>\n",
              "      <th>9</th>\n",
              "      <td>classic rock</td>\n",
              "      <td>2287</td>\n",
              "    </tr>\n",
              "  </tbody>\n",
              "</table>\n",
              "</div>"
            ],
            "text/plain": [
              "      type_of_music  total_listened\n",
              "0              rock            7503\n",
              "1               pop            5418\n",
              "2       alternative            5251\n",
              "3        electronic            4672\n",
              "4             indie            4458\n",
              "5  female vocalists            4228\n",
              "6               80s            2791\n",
              "7             dance            2739\n",
              "8  alternative rock            2631\n",
              "9      classic rock            2287"
            ]
          },
          "metadata": {
            "tags": []
          },
          "execution_count": 13
        }
      ]
    },
    {
      "cell_type": "markdown",
      "metadata": {
        "id": "IVFcjmW6AYK_"
      },
      "source": [
        "## 2 Sistema de Recomendación"
      ]
    },
    {
      "cell_type": "markdown",
      "metadata": {
        "id": "GT_72hFyAkQm"
      },
      "source": [
        "### Filtrado colaborativo"
      ]
    },
    {
      "cell_type": "markdown",
      "metadata": {
        "id": "9lHKDweDB3OP"
      },
      "source": [
        "En primer lugar preparamos el dataset"
      ]
    },
    {
      "cell_type": "code",
      "metadata": {
        "colab": {
          "base_uri": "https://localhost:8080/"
        },
        "id": "lHT81fPfAcxn",
        "outputId": "18057196-19b2-442e-a993-8ff10bc8f67f"
      },
      "source": [
        "# convertimos la columna weight a float\r\n",
        "user_artist_plays['weight']=user_artist_plays['weight'].astype(float)\r\n",
        "user_artist_plays.dtypes"
      ],
      "execution_count": 15,
      "outputs": [
        {
          "output_type": "execute_result",
          "data": {
            "text/plain": [
              "userID        int64\n",
              "artistID      int64\n",
              "weight      float64\n",
              "dtype: object"
            ]
          },
          "metadata": {
            "tags": []
          },
          "execution_count": 15
        }
      ]
    },
    {
      "cell_type": "code",
      "metadata": {
        "colab": {
          "base_uri": "https://localhost:8080/",
          "height": 197
        },
        "id": "Gj7qSnkEA83i",
        "outputId": "ba4b2112-3314-4d50-b5a6-67ff51e0ff70"
      },
      "source": [
        "#normalización de los datos\r\n",
        "user_artist_plays['weight_scaled']=(user_artist_plays['weight']-user_artist_plays['weight'].mean()) /user_artist_plays['weight'].std()\r\n",
        "user_plays=  user_artist_plays.drop('weight', 1)\r\n",
        "user_plays.head()"
      ],
      "execution_count": 16,
      "outputs": [
        {
          "output_type": "execute_result",
          "data": {
            "text/html": [
              "<div>\n",
              "<style scoped>\n",
              "    .dataframe tbody tr th:only-of-type {\n",
              "        vertical-align: middle;\n",
              "    }\n",
              "\n",
              "    .dataframe tbody tr th {\n",
              "        vertical-align: top;\n",
              "    }\n",
              "\n",
              "    .dataframe thead th {\n",
              "        text-align: right;\n",
              "    }\n",
              "</style>\n",
              "<table border=\"1\" class=\"dataframe\">\n",
              "  <thead>\n",
              "    <tr style=\"text-align: right;\">\n",
              "      <th></th>\n",
              "      <th>userID</th>\n",
              "      <th>artistID</th>\n",
              "      <th>weight_scaled</th>\n",
              "    </tr>\n",
              "  </thead>\n",
              "  <tbody>\n",
              "    <tr>\n",
              "      <th>0</th>\n",
              "      <td>2</td>\n",
              "      <td>51</td>\n",
              "      <td>3.502167</td>\n",
              "    </tr>\n",
              "    <tr>\n",
              "      <th>1</th>\n",
              "      <td>2</td>\n",
              "      <td>52</td>\n",
              "      <td>2.917573</td>\n",
              "    </tr>\n",
              "    <tr>\n",
              "      <th>2</th>\n",
              "      <td>2</td>\n",
              "      <td>53</td>\n",
              "      <td>2.827205</td>\n",
              "    </tr>\n",
              "    <tr>\n",
              "      <th>3</th>\n",
              "      <td>2</td>\n",
              "      <td>54</td>\n",
              "      <td>2.547037</td>\n",
              "    </tr>\n",
              "    <tr>\n",
              "      <th>4</th>\n",
              "      <td>2</td>\n",
              "      <td>55</td>\n",
              "      <td>2.195961</td>\n",
              "    </tr>\n",
              "  </tbody>\n",
              "</table>\n",
              "</div>"
            ],
            "text/plain": [
              "   userID  artistID  weight_scaled\n",
              "0       2        51       3.502167\n",
              "1       2        52       2.917573\n",
              "2       2        53       2.827205\n",
              "3       2        54       2.547037\n",
              "4       2        55       2.195961"
            ]
          },
          "metadata": {
            "tags": []
          },
          "execution_count": 16
        }
      ]
    },
    {
      "cell_type": "code",
      "metadata": {
        "colab": {
          "base_uri": "https://localhost:8080/"
        },
        "id": "2aB3O2SuA9FM",
        "outputId": "73ff51db-4d5b-46ed-bf07-763dab1cdade"
      },
      "source": [
        "user_plays.weight_scaled.describe()"
      ],
      "execution_count": 17,
      "outputs": [
        {
          "output_type": "execute_result",
          "data": {
            "text/plain": [
              "count    9.283400e+04\n",
              "mean    -1.496697e-17\n",
              "std      1.000000e+00\n",
              "min     -1.983951e-01\n",
              "25%     -1.701384e-01\n",
              "50%     -1.293528e-01\n",
              "75%     -3.498605e-02\n",
              "max      9.382099e+01\n",
              "Name: weight_scaled, dtype: float64"
            ]
          },
          "metadata": {
            "tags": []
          },
          "execution_count": 17
        }
      ]
    },
    {
      "cell_type": "code",
      "metadata": {
        "colab": {
          "base_uri": "https://localhost:8080/",
          "height": 406
        },
        "id": "2klkH3SOA9SY",
        "outputId": "5fd69d4b-49db-4462-c2a9-38c233152d79"
      },
      "source": [
        "#eliminamos los usuarios con num_raitings menor a 5\r\n",
        "min_ratings=5\r\n",
        "grouped_df=user_plays.groupby('artistID', as_index=False).count().iloc[:,lambda df: [0,2]].sort_values('weight_scaled', ascending=False)\r\n",
        "grouped_df= grouped_df.loc[grouped_df['weight_scaled'] >= min_ratings]\r\n",
        "grouped_df.columns=['artistID', 'num_raitings']\r\n",
        "filtered_df=user_plays.merge(grouped_df, how='inner', on = 'artistID') #datos filtrados\r\n",
        "filtered_df"
      ],
      "execution_count": 19,
      "outputs": [
        {
          "output_type": "execute_result",
          "data": {
            "text/html": [
              "<div>\n",
              "<style scoped>\n",
              "    .dataframe tbody tr th:only-of-type {\n",
              "        vertical-align: middle;\n",
              "    }\n",
              "\n",
              "    .dataframe tbody tr th {\n",
              "        vertical-align: top;\n",
              "    }\n",
              "\n",
              "    .dataframe thead th {\n",
              "        text-align: right;\n",
              "    }\n",
              "</style>\n",
              "<table border=\"1\" class=\"dataframe\">\n",
              "  <thead>\n",
              "    <tr style=\"text-align: right;\">\n",
              "      <th></th>\n",
              "      <th>userID</th>\n",
              "      <th>artistID</th>\n",
              "      <th>weight_scaled</th>\n",
              "      <th>num_raitings</th>\n",
              "    </tr>\n",
              "  </thead>\n",
              "  <tbody>\n",
              "    <tr>\n",
              "      <th>0</th>\n",
              "      <td>2</td>\n",
              "      <td>51</td>\n",
              "      <td>3.502167</td>\n",
              "      <td>111</td>\n",
              "    </tr>\n",
              "    <tr>\n",
              "      <th>1</th>\n",
              "      <td>4</td>\n",
              "      <td>51</td>\n",
              "      <td>-0.137883</td>\n",
              "      <td>111</td>\n",
              "    </tr>\n",
              "    <tr>\n",
              "      <th>2</th>\n",
              "      <td>27</td>\n",
              "      <td>51</td>\n",
              "      <td>-0.176003</td>\n",
              "      <td>111</td>\n",
              "    </tr>\n",
              "    <tr>\n",
              "      <th>3</th>\n",
              "      <td>28</td>\n",
              "      <td>51</td>\n",
              "      <td>-0.195996</td>\n",
              "      <td>111</td>\n",
              "    </tr>\n",
              "    <tr>\n",
              "      <th>4</th>\n",
              "      <td>62</td>\n",
              "      <td>51</td>\n",
              "      <td>-0.057911</td>\n",
              "      <td>111</td>\n",
              "    </tr>\n",
              "    <tr>\n",
              "      <th>...</th>\n",
              "      <td>...</td>\n",
              "      <td>...</td>\n",
              "      <td>...</td>\n",
              "      <td>...</td>\n",
              "    </tr>\n",
              "    <tr>\n",
              "      <th>71421</th>\n",
              "      <td>1479</td>\n",
              "      <td>14692</td>\n",
              "      <td>-0.108294</td>\n",
              "      <td>6</td>\n",
              "    </tr>\n",
              "    <tr>\n",
              "      <th>71422</th>\n",
              "      <td>1737</td>\n",
              "      <td>14692</td>\n",
              "      <td>-0.124821</td>\n",
              "      <td>6</td>\n",
              "    </tr>\n",
              "    <tr>\n",
              "      <th>71423</th>\n",
              "      <td>1759</td>\n",
              "      <td>14692</td>\n",
              "      <td>0.072443</td>\n",
              "      <td>6</td>\n",
              "    </tr>\n",
              "    <tr>\n",
              "      <th>71424</th>\n",
              "      <td>1890</td>\n",
              "      <td>14692</td>\n",
              "      <td>-0.159475</td>\n",
              "      <td>6</td>\n",
              "    </tr>\n",
              "    <tr>\n",
              "      <th>71425</th>\n",
              "      <td>2007</td>\n",
              "      <td>14692</td>\n",
              "      <td>0.207595</td>\n",
              "      <td>6</td>\n",
              "    </tr>\n",
              "  </tbody>\n",
              "</table>\n",
              "<p>71426 rows × 4 columns</p>\n",
              "</div>"
            ],
            "text/plain": [
              "       userID  artistID  weight_scaled  num_raitings\n",
              "0           2        51       3.502167           111\n",
              "1           4        51      -0.137883           111\n",
              "2          27        51      -0.176003           111\n",
              "3          28        51      -0.195996           111\n",
              "4          62        51      -0.057911           111\n",
              "...       ...       ...            ...           ...\n",
              "71421    1479     14692      -0.108294             6\n",
              "71422    1737     14692      -0.124821             6\n",
              "71423    1759     14692       0.072443             6\n",
              "71424    1890     14692      -0.159475             6\n",
              "71425    2007     14692       0.207595             6\n",
              "\n",
              "[71426 rows x 4 columns]"
            ]
          },
          "metadata": {
            "tags": []
          },
          "execution_count": 19
        }
      ]
    },
    {
      "cell_type": "code",
      "metadata": {
        "colab": {
          "base_uri": "https://localhost:8080/",
          "height": 287
        },
        "id": "2N5AWk-TA9gN",
        "outputId": "2088fccd-c008-4b7e-8cd3-76e16e0c2b31"
      },
      "source": [
        "filtered_df.describe()"
      ],
      "execution_count": 20,
      "outputs": [
        {
          "output_type": "execute_result",
          "data": {
            "text/html": [
              "<div>\n",
              "<style scoped>\n",
              "    .dataframe tbody tr th:only-of-type {\n",
              "        vertical-align: middle;\n",
              "    }\n",
              "\n",
              "    .dataframe tbody tr th {\n",
              "        vertical-align: top;\n",
              "    }\n",
              "\n",
              "    .dataframe thead th {\n",
              "        text-align: right;\n",
              "    }\n",
              "</style>\n",
              "<table border=\"1\" class=\"dataframe\">\n",
              "  <thead>\n",
              "    <tr style=\"text-align: right;\">\n",
              "      <th></th>\n",
              "      <th>userID</th>\n",
              "      <th>artistID</th>\n",
              "      <th>weight_scaled</th>\n",
              "      <th>num_raitings</th>\n",
              "    </tr>\n",
              "  </thead>\n",
              "  <tbody>\n",
              "    <tr>\n",
              "      <th>count</th>\n",
              "      <td>71426.000000</td>\n",
              "      <td>71426.000000</td>\n",
              "      <td>71426.000000</td>\n",
              "      <td>71426.000000</td>\n",
              "    </tr>\n",
              "    <tr>\n",
              "      <th>mean</th>\n",
              "      <td>1032.297861</td>\n",
              "      <td>1527.646627</td>\n",
              "      <td>0.026171</td>\n",
              "      <td>111.226640</td>\n",
              "    </tr>\n",
              "    <tr>\n",
              "      <th>std</th>\n",
              "      <td>609.305190</td>\n",
              "      <td>1878.657582</td>\n",
              "      <td>1.130231</td>\n",
              "      <td>130.262313</td>\n",
              "    </tr>\n",
              "    <tr>\n",
              "      <th>min</th>\n",
              "      <td>2.000000</td>\n",
              "      <td>2.000000</td>\n",
              "      <td>-0.198395</td>\n",
              "      <td>5.000000</td>\n",
              "    </tr>\n",
              "    <tr>\n",
              "      <th>25%</th>\n",
              "      <td>498.000000</td>\n",
              "      <td>321.000000</td>\n",
              "      <td>-0.166673</td>\n",
              "      <td>19.000000</td>\n",
              "    </tr>\n",
              "    <tr>\n",
              "      <th>50%</th>\n",
              "      <td>1024.000000</td>\n",
              "      <td>808.000000</td>\n",
              "      <td>-0.122155</td>\n",
              "      <td>60.000000</td>\n",
              "    </tr>\n",
              "    <tr>\n",
              "      <th>75%</th>\n",
              "      <td>1559.000000</td>\n",
              "      <td>1936.750000</td>\n",
              "      <td>-0.017392</td>\n",
              "      <td>150.000000</td>\n",
              "    </tr>\n",
              "    <tr>\n",
              "      <th>max</th>\n",
              "      <td>2100.000000</td>\n",
              "      <td>14692.000000</td>\n",
              "      <td>93.820991</td>\n",
              "      <td>611.000000</td>\n",
              "    </tr>\n",
              "  </tbody>\n",
              "</table>\n",
              "</div>"
            ],
            "text/plain": [
              "             userID      artistID  weight_scaled  num_raitings\n",
              "count  71426.000000  71426.000000   71426.000000  71426.000000\n",
              "mean    1032.297861   1527.646627       0.026171    111.226640\n",
              "std      609.305190   1878.657582       1.130231    130.262313\n",
              "min        2.000000      2.000000      -0.198395      5.000000\n",
              "25%      498.000000    321.000000      -0.166673     19.000000\n",
              "50%     1024.000000    808.000000      -0.122155     60.000000\n",
              "75%     1559.000000   1936.750000      -0.017392    150.000000\n",
              "max     2100.000000  14692.000000      93.820991    611.000000"
            ]
          },
          "metadata": {
            "tags": []
          },
          "execution_count": 20
        }
      ]
    },
    {
      "cell_type": "code",
      "metadata": {
        "colab": {
          "base_uri": "https://localhost:8080/",
          "height": 197
        },
        "id": "1VhqMsUhA9sM",
        "outputId": "9879794d-75a4-44f7-94b5-248954bf2aa8"
      },
      "source": [
        "filtered_df=filtered_df.fillna(value=0)\r\n",
        "#tabla que combina los datos que utilizaremos\r\n",
        "combined_data= pd.merge(left=filtered_df,right=artist_data, left_on='artistID', right_on='artistID')\r\n",
        "combined_data=combined_data.drop(['url','pictureURL'],axis= 1)\r\n",
        "combined_data.sample(5)\r\n"
      ],
      "execution_count": 21,
      "outputs": [
        {
          "output_type": "execute_result",
          "data": {
            "text/html": [
              "<div>\n",
              "<style scoped>\n",
              "    .dataframe tbody tr th:only-of-type {\n",
              "        vertical-align: middle;\n",
              "    }\n",
              "\n",
              "    .dataframe tbody tr th {\n",
              "        vertical-align: top;\n",
              "    }\n",
              "\n",
              "    .dataframe thead th {\n",
              "        text-align: right;\n",
              "    }\n",
              "</style>\n",
              "<table border=\"1\" class=\"dataframe\">\n",
              "  <thead>\n",
              "    <tr style=\"text-align: right;\">\n",
              "      <th></th>\n",
              "      <th>userID</th>\n",
              "      <th>artistID</th>\n",
              "      <th>weight_scaled</th>\n",
              "      <th>num_raitings</th>\n",
              "      <th>name</th>\n",
              "    </tr>\n",
              "  </thead>\n",
              "  <tbody>\n",
              "    <tr>\n",
              "      <th>5075</th>\n",
              "      <td>1200</td>\n",
              "      <td>163</td>\n",
              "      <td>-0.145614</td>\n",
              "      <td>258</td>\n",
              "      <td>Pink Floyd</td>\n",
              "    </tr>\n",
              "    <tr>\n",
              "      <th>65721</th>\n",
              "      <td>236</td>\n",
              "      <td>2526</td>\n",
              "      <td>0.221190</td>\n",
              "      <td>10</td>\n",
              "      <td>Sunrise Avenue</td>\n",
              "    </tr>\n",
              "    <tr>\n",
              "      <th>13772</th>\n",
              "      <td>1965</td>\n",
              "      <td>292</td>\n",
              "      <td>-0.103762</td>\n",
              "      <td>407</td>\n",
              "      <td>Christina Aguilera</td>\n",
              "    </tr>\n",
              "    <tr>\n",
              "      <th>48541</th>\n",
              "      <td>816</td>\n",
              "      <td>1441</td>\n",
              "      <td>-0.196796</td>\n",
              "      <td>14</td>\n",
              "      <td>Eva Simons</td>\n",
              "    </tr>\n",
              "    <tr>\n",
              "      <th>57275</th>\n",
              "      <td>1782</td>\n",
              "      <td>2521</td>\n",
              "      <td>-0.172804</td>\n",
              "      <td>85</td>\n",
              "      <td>Robyn</td>\n",
              "    </tr>\n",
              "  </tbody>\n",
              "</table>\n",
              "</div>"
            ],
            "text/plain": [
              "       userID  artistID  weight_scaled  num_raitings                name\n",
              "5075     1200       163      -0.145614           258          Pink Floyd\n",
              "65721     236      2526       0.221190            10      Sunrise Avenue\n",
              "13772    1965       292      -0.103762           407  Christina Aguilera\n",
              "48541     816      1441      -0.196796            14          Eva Simons\n",
              "57275    1782      2521      -0.172804            85               Robyn"
            ]
          },
          "metadata": {
            "tags": []
          },
          "execution_count": 21
        }
      ]
    },
    {
      "cell_type": "markdown",
      "metadata": {
        "id": "HyzFsZTaCGzu"
      },
      "source": [
        "Utilizamos la libreria surprise"
      ]
    },
    {
      "cell_type": "code",
      "metadata": {
        "id": "ds_oLMg_A91m"
      },
      "source": [
        "reader=Reader(rating_scale=(combined_data.weight_scaled.min(), combined_data.weight_scaled.max()))\r\n",
        "df_user=Dataset.load_from_df(combined_data[['userID', 'artistID', 'weight_scaled']], reader) #train data"
      ],
      "execution_count": 22,
      "outputs": []
    },
    {
      "cell_type": "code",
      "metadata": {
        "colab": {
          "base_uri": "https://localhost:8080/",
          "height": 767
        },
        "id": "J1dzmwnJA-Bj",
        "outputId": "95446d1a-d020-443c-a8fd-87021bea6d96"
      },
      "source": [
        "benchmark = []\r\n",
        "# Iteramos sobre los algoritmos de filtrado colaborativo\r\n",
        "for algorithm in [ SlopeOne(), NMF(), KNNBaseline(), KNNBasic(), KNNWithMeans(), KNNWithZScore(), CoClustering()]:\r\n",
        "    # Hacemos cross validation\r\n",
        "    results = cross_validate(algorithm, df_user, measures=['RMSE', 'MAE'], cv=3, verbose=False)\r\n",
        "    \r\n",
        "    # Obtenemos el resultado y agregamos el nombre del algoritmo \r\n",
        "    tmp = pd.DataFrame.from_dict(results).mean(axis=0)\r\n",
        "    tmp = tmp.append(pd.Series([str(algorithm).split(' ')[0].split('.')[-1]], index=['Algorithm']))\r\n",
        "    benchmark.append(tmp)\r\n",
        "    \r\n",
        "pd.DataFrame(benchmark).set_index('Algorithm').sort_values('test_rmse') "
      ],
      "execution_count": 23,
      "outputs": [
        {
          "output_type": "stream",
          "text": [
            "Estimating biases using als...\n",
            "Computing the msd similarity matrix...\n",
            "Done computing similarity matrix.\n",
            "Estimating biases using als...\n",
            "Computing the msd similarity matrix...\n",
            "Done computing similarity matrix.\n",
            "Estimating biases using als...\n",
            "Computing the msd similarity matrix...\n",
            "Done computing similarity matrix.\n",
            "Computing the msd similarity matrix...\n",
            "Done computing similarity matrix.\n",
            "Computing the msd similarity matrix...\n",
            "Done computing similarity matrix.\n",
            "Computing the msd similarity matrix...\n",
            "Done computing similarity matrix.\n",
            "Computing the msd similarity matrix...\n",
            "Done computing similarity matrix.\n",
            "Computing the msd similarity matrix...\n",
            "Done computing similarity matrix.\n",
            "Computing the msd similarity matrix...\n",
            "Done computing similarity matrix.\n",
            "Computing the msd similarity matrix...\n",
            "Done computing similarity matrix.\n",
            "Computing the msd similarity matrix...\n",
            "Done computing similarity matrix.\n",
            "Computing the msd similarity matrix...\n",
            "Done computing similarity matrix.\n"
          ],
          "name": "stdout"
        },
        {
          "output_type": "execute_result",
          "data": {
            "text/html": [
              "<div>\n",
              "<style scoped>\n",
              "    .dataframe tbody tr th:only-of-type {\n",
              "        vertical-align: middle;\n",
              "    }\n",
              "\n",
              "    .dataframe tbody tr th {\n",
              "        vertical-align: top;\n",
              "    }\n",
              "\n",
              "    .dataframe thead th {\n",
              "        text-align: right;\n",
              "    }\n",
              "</style>\n",
              "<table border=\"1\" class=\"dataframe\">\n",
              "  <thead>\n",
              "    <tr style=\"text-align: right;\">\n",
              "      <th></th>\n",
              "      <th>test_rmse</th>\n",
              "      <th>test_mae</th>\n",
              "      <th>fit_time</th>\n",
              "      <th>test_time</th>\n",
              "    </tr>\n",
              "    <tr>\n",
              "      <th>Algorithm</th>\n",
              "      <th></th>\n",
              "      <th></th>\n",
              "      <th></th>\n",
              "      <th></th>\n",
              "    </tr>\n",
              "  </thead>\n",
              "  <tbody>\n",
              "    <tr>\n",
              "      <th>KNNBaseline</th>\n",
              "      <td>1.111771</td>\n",
              "      <td>0.218508</td>\n",
              "      <td>0.408812</td>\n",
              "      <td>2.828207</td>\n",
              "    </tr>\n",
              "    <tr>\n",
              "      <th>SlopeOne</th>\n",
              "      <td>1.123342</td>\n",
              "      <td>0.229900</td>\n",
              "      <td>0.356493</td>\n",
              "      <td>0.778294</td>\n",
              "    </tr>\n",
              "    <tr>\n",
              "      <th>KNNWithMeans</th>\n",
              "      <td>1.127642</td>\n",
              "      <td>0.234134</td>\n",
              "      <td>0.320931</td>\n",
              "      <td>2.424576</td>\n",
              "    </tr>\n",
              "    <tr>\n",
              "      <th>KNNBasic</th>\n",
              "      <td>1.138541</td>\n",
              "      <td>0.228384</td>\n",
              "      <td>0.292508</td>\n",
              "      <td>2.267067</td>\n",
              "    </tr>\n",
              "    <tr>\n",
              "      <th>KNNWithZScore</th>\n",
              "      <td>1.201316</td>\n",
              "      <td>0.222917</td>\n",
              "      <td>0.398788</td>\n",
              "      <td>2.623768</td>\n",
              "    </tr>\n",
              "    <tr>\n",
              "      <th>CoClustering</th>\n",
              "      <td>1.278850</td>\n",
              "      <td>0.273461</td>\n",
              "      <td>1.294327</td>\n",
              "      <td>0.160982</td>\n",
              "    </tr>\n",
              "    <tr>\n",
              "      <th>NMF</th>\n",
              "      <td>1.927985</td>\n",
              "      <td>0.313631</td>\n",
              "      <td>3.312569</td>\n",
              "      <td>0.160915</td>\n",
              "    </tr>\n",
              "  </tbody>\n",
              "</table>\n",
              "</div>"
            ],
            "text/plain": [
              "               test_rmse  test_mae  fit_time  test_time\n",
              "Algorithm                                              \n",
              "KNNBaseline     1.111771  0.218508  0.408812   2.828207\n",
              "SlopeOne        1.123342  0.229900  0.356493   0.778294\n",
              "KNNWithMeans    1.127642  0.234134  0.320931   2.424576\n",
              "KNNBasic        1.138541  0.228384  0.292508   2.267067\n",
              "KNNWithZScore   1.201316  0.222917  0.398788   2.623768\n",
              "CoClustering    1.278850  0.273461  1.294327   0.160982\n",
              "NMF             1.927985  0.313631  3.312569   0.160915"
            ]
          },
          "metadata": {
            "tags": []
          },
          "execution_count": 23
        }
      ]
    },
    {
      "cell_type": "markdown",
      "metadata": {
        "id": "0HLpibhbC2ii"
      },
      "source": [
        "El menor RMSE esta dado por KNNBaseline, por lo tanto es el que se usará para recomendar las peliculas."
      ]
    },
    {
      "cell_type": "code",
      "metadata": {
        "id": "bTIo8ajGCBZN"
      },
      "source": [
        "#Entrenamos el modelo de recomendación: Paso 1\r\n",
        "def getSimModle():\r\n",
        "  trainset=df_user.build_full_trainset()\r\n",
        "  #usamos pearson_baseline para calcular la similitud entre los artistas \r\n",
        "  sim_options={'name':'pearson_baseline', 'user_based':False}\r\n",
        "  #usamos KNNBaseline\r\n",
        "  algo=KNNBaseline(sim_options=sim_options)\r\n",
        "  #entrenamos el modelo\r\n",
        "  algo.fit(trainset)\r\n",
        "  return algo"
      ],
      "execution_count": 24,
      "outputs": []
    },
    {
      "cell_type": "code",
      "metadata": {
        "id": "90Bo7meMCBjO"
      },
      "source": [
        "#creacion de diccionarios: Paso2\r\n",
        "name_to_rid = dict(zip(combined_data['name'],combined_data['artistID']))\r\n",
        "rid_to_name = dict(zip(combined_data['artistID'],combined_data['name']))"
      ],
      "execution_count": 26,
      "outputs": []
    },
    {
      "cell_type": "code",
      "metadata": {
        "id": "lo--X8JSCBwH"
      },
      "source": [
        "# Recomendación de artistas relacionados basados en el modelo definido anteriormente: Paso 3\r\n",
        "def showSimilarArtist(algo, rid_to_name, target_artist):\r\n",
        "    # Obtenemos la raw_id del artista seleccionado\r\n",
        "    target_artist_raw_id = name_to_rid.get(target_artist)\r\n",
        "    \r\n",
        "    #convertimos la raw_id del artista a la ID interna del modelo\r\n",
        "    target_artist_inner_id = algo.trainset.to_inner_iid(target_artist_raw_id)\r\n",
        "    \r\n",
        "    #Obtenemos los artistas recomendados por el modelo, aquí solo 10.\r\n",
        "    target_artist_neighbors = algo.get_neighbors(target_artist_inner_id, 10)\r\n",
        "    \r\n",
        "    #La id interna del modelo es convertida a la id actual del artista\r\n",
        "    neighbors_raw_ids = [algo.trainset.to_raw_iid(inner_id) for inner_id in target_artist_neighbors]\r\n",
        "    #Obtenemos una lista de artist-id o una lista de recomendaciones\r\n",
        "    neighbors_artist = [rid_to_name[raw_id] for raw_id in neighbors_raw_ids]\r\n",
        "    print('The 10 nearest neighbors of the artist are:')\r\n",
        "    for artist in neighbors_artist:\r\n",
        "       print(artist)"
      ],
      "execution_count": 27,
      "outputs": []
    },
    {
      "cell_type": "code",
      "metadata": {
        "colab": {
          "base_uri": "https://localhost:8080/"
        },
        "id": "EGDEJ8j6DVnS",
        "outputId": "b14790ee-ea19-4bb8-878c-462f40ea34ff"
      },
      "source": [
        "#entrenamos el modelo de recomendación\r\n",
        "algo=getSimModle()"
      ],
      "execution_count": 28,
      "outputs": [
        {
          "output_type": "stream",
          "text": [
            "Estimating biases using als...\n",
            "Computing the pearson_baseline similarity matrix...\n",
            "Done computing similarity matrix.\n"
          ],
          "name": "stdout"
        }
      ]
    },
    {
      "cell_type": "code",
      "metadata": {
        "colab": {
          "base_uri": "https://localhost:8080/"
        },
        "id": "GJpIh-4rDdX0",
        "outputId": "79bf342d-6f99-4ee9-a4a3-5591aa593c56"
      },
      "source": [
        "#mostramos los artistas relacionados\r\n",
        "target_artist = 'AC/DC'\r\n",
        "showSimilarArtist(algo ,rid_to_name, target_artist)"
      ],
      "execution_count": 29,
      "outputs": [
        {
          "output_type": "stream",
          "text": [
            "The 10 nearest neighbors of the artist are:\n",
            "Scorpions\n",
            "Aerosmith\n",
            "Queen\n",
            "Black Label Society\n",
            "Motörhead\n",
            "KISS\n",
            "The Strokes\n",
            "Jimi Hendrix\n",
            "The Killers\n",
            "R.E.M.\n"
          ],
          "name": "stdout"
        }
      ]
    },
    {
      "cell_type": "code",
      "metadata": {
        "colab": {
          "base_uri": "https://localhost:8080/"
        },
        "id": "sqPu4RuvDiT5",
        "outputId": "a30cc9ab-61e5-4076-d9d6-d56d1497dd9b"
      },
      "source": [
        "#mostramos los artistas relacionados\r\n",
        "target_artist = 'Ramones'\r\n",
        "showSimilarArtist(algo ,rid_to_name, target_artist)"
      ],
      "execution_count": 30,
      "outputs": [
        {
          "output_type": "stream",
          "text": [
            "The 10 nearest neighbors of the artist are:\n",
            "Black Sabbath\n",
            "Matanza\n",
            "Blur\n",
            "Judas Priest\n",
            "Rise Against\n",
            "Nirvana\n",
            "Pearl Jam\n",
            "The Clash\n",
            "Arcade Fire\n",
            "Echo & The Bunnymen\n"
          ],
          "name": "stdout"
        }
      ]
    },
    {
      "cell_type": "code",
      "metadata": {
        "colab": {
          "base_uri": "https://localhost:8080/"
        },
        "id": "EpUdgSzUDmps",
        "outputId": "541463a7-7ccc-48a8-d5c2-977d50096b0c"
      },
      "source": [
        "#mostramos los artistas relacionados\r\n",
        "target_artist = 'Justin Bieber'\r\n",
        "showSimilarArtist(algo ,rid_to_name, target_artist)"
      ],
      "execution_count": 31,
      "outputs": [
        {
          "output_type": "stream",
          "text": [
            "The 10 nearest neighbors of the artist are:\n",
            "Black Eyed Peas\n",
            "Mariah Carey\n",
            "Selena Gomez & the Scene\n",
            "Paramore\n",
            "Ke$ha\n",
            "McFly\n",
            "Kelly Clarkson\n",
            "Hilary Duff\n",
            "3OH!3\n",
            "OneRepublic\n"
          ],
          "name": "stdout"
        }
      ]
    },
    {
      "cell_type": "code",
      "metadata": {
        "colab": {
          "base_uri": "https://localhost:8080/"
        },
        "id": "_VAjlCkFDtN4",
        "outputId": "3b2c191b-b44d-402a-e6c6-29fc6424fdbc"
      },
      "source": [
        "#mostramos los artistas relacionados\r\n",
        "target_artist = 'Joy Division'\r\n",
        "showSimilarArtist(algo ,rid_to_name, target_artist)"
      ],
      "execution_count": 32,
      "outputs": [
        {
          "output_type": "stream",
          "text": [
            "The 10 nearest neighbors of the artist are:\n",
            "The Smiths\n",
            "Arcade Fire\n",
            "Sonic Youth\n",
            "Coldplay\n",
            "New Order\n",
            "The xx\n",
            "Martin L. Gore\n",
            "Metallica\n",
            "White Lies\n",
            "Kaiser Chiefs\n"
          ],
          "name": "stdout"
        }
      ]
    },
    {
      "cell_type": "code",
      "metadata": {
        "colab": {
          "base_uri": "https://localhost:8080/"
        },
        "id": "eBIUQmXbDuP2",
        "outputId": "f473d14f-5d54-4b03-bbd8-84a5c03746b7"
      },
      "source": [
        "##mostramos los artistas relacionados\r\n",
        "target_artist = 'Muse'\r\n",
        "showSimilarArtist(algo ,rid_to_name, target_artist)"
      ],
      "execution_count": 33,
      "outputs": [
        {
          "output_type": "stream",
          "text": [
            "The 10 nearest neighbors of the artist are:\n",
            "Avril Lavigne\n",
            "Good Charlotte\n",
            "Ke$ha\n",
            "Arctic Monkeys\n",
            "Deftones\n",
            "Lady Gaga\n",
            "The Veronicas\n",
            "The Prodigy\n",
            "Rise Against\n",
            "Justin Timberlake\n"
          ],
          "name": "stdout"
        }
      ]
    },
    {
      "cell_type": "code",
      "metadata": {
        "colab": {
          "base_uri": "https://localhost:8080/"
        },
        "id": "KMaG8RACDz0B",
        "outputId": "364bcb52-9913-4f5e-8474-fde53cdba31a"
      },
      "source": [
        "#mostramos los artistas relacionados\r\n",
        "target_artist = 'Radiohead'\r\n",
        "showSimilarArtist(algo ,rid_to_name, target_artist)"
      ],
      "execution_count": 34,
      "outputs": [
        {
          "output_type": "stream",
          "text": [
            "The 10 nearest neighbors of the artist are:\n",
            "Pixies\n",
            "Oasis\n",
            "Red Hot Chili Peppers\n",
            "Death Cab for Cutie\n",
            "The Cranberries\n",
            "The Who\n",
            "Interpol\n",
            "Keane\n",
            "The Mars Volta\n",
            "David Bowie\n"
          ],
          "name": "stdout"
        }
      ]
    },
    {
      "cell_type": "markdown",
      "metadata": {
        "id": "2Ef1CLx_D9A3"
      },
      "source": [
        "## Sistema de recomendación basado en contenido"
      ]
    },
    {
      "cell_type": "code",
      "metadata": {
        "id": "YIhYpFDZD5WA"
      },
      "source": [
        "#datos que utilizaremos en esta parte\r\n",
        "useful_artist = artist_data\r\n",
        "useful_artist=useful_artist.drop(['url', 'pictureURL'],axis=1)\r\n",
        "user_taggedartists=user_taggedartists.drop(['userID','day', 'month', 'year'],axis= 1)"
      ],
      "execution_count": 38,
      "outputs": []
    },
    {
      "cell_type": "code",
      "metadata": {
        "colab": {
          "base_uri": "https://localhost:8080/",
          "height": 197
        },
        "id": "8PVisuZSH9rW",
        "outputId": "de6e3fde-1463-4bcb-ceaa-121fa28bf774"
      },
      "source": [
        "content_vector=pd.merge(left=user_taggedartists,right=tags, left_on='tagID', right_on='tagID')\r\n",
        "content_vector.sample(5)"
      ],
      "execution_count": 39,
      "outputs": [
        {
          "output_type": "execute_result",
          "data": {
            "text/html": [
              "<div>\n",
              "<style scoped>\n",
              "    .dataframe tbody tr th:only-of-type {\n",
              "        vertical-align: middle;\n",
              "    }\n",
              "\n",
              "    .dataframe tbody tr th {\n",
              "        vertical-align: top;\n",
              "    }\n",
              "\n",
              "    .dataframe thead th {\n",
              "        text-align: right;\n",
              "    }\n",
              "</style>\n",
              "<table border=\"1\" class=\"dataframe\">\n",
              "  <thead>\n",
              "    <tr style=\"text-align: right;\">\n",
              "      <th></th>\n",
              "      <th>artistID</th>\n",
              "      <th>tagID</th>\n",
              "      <th>tagValue</th>\n",
              "    </tr>\n",
              "  </thead>\n",
              "  <tbody>\n",
              "    <tr>\n",
              "      <th>166595</th>\n",
              "      <td>1519</td>\n",
              "      <td>5309</td>\n",
              "      <td>can't stop listening</td>\n",
              "    </tr>\n",
              "    <tr>\n",
              "      <th>160273</th>\n",
              "      <td>17063</td>\n",
              "      <td>3657</td>\n",
              "      <td>independent</td>\n",
              "    </tr>\n",
              "    <tr>\n",
              "      <th>40460</th>\n",
              "      <td>1075</td>\n",
              "      <td>79</td>\n",
              "      <td>alternative</td>\n",
              "    </tr>\n",
              "    <tr>\n",
              "      <th>138696</th>\n",
              "      <td>997</td>\n",
              "      <td>959</td>\n",
              "      <td>po-kraftwerkski</td>\n",
              "    </tr>\n",
              "    <tr>\n",
              "      <th>19067</th>\n",
              "      <td>1014</td>\n",
              "      <td>16</td>\n",
              "      <td>new wave</td>\n",
              "    </tr>\n",
              "  </tbody>\n",
              "</table>\n",
              "</div>"
            ],
            "text/plain": [
              "        artistID  tagID              tagValue\n",
              "166595      1519   5309  can't stop listening\n",
              "160273     17063   3657           independent\n",
              "40460       1075     79           alternative\n",
              "138696       997    959       po-kraftwerkski\n",
              "19067       1014     16              new wave"
            ]
          },
          "metadata": {
            "tags": []
          },
          "execution_count": 39
        }
      ]
    },
    {
      "cell_type": "code",
      "metadata": {
        "colab": {
          "base_uri": "https://localhost:8080/"
        },
        "id": "6q9cUojrJBAM",
        "outputId": "a3e38205-8544-4c30-d872-75e8c3a894b5"
      },
      "source": [
        "len(content_vector)"
      ],
      "execution_count": 43,
      "outputs": [
        {
          "output_type": "execute_result",
          "data": {
            "text/plain": [
              "186479"
            ]
          },
          "metadata": {
            "tags": []
          },
          "execution_count": 43
        }
      ]
    },
    {
      "cell_type": "code",
      "metadata": {
        "colab": {
          "base_uri": "https://localhost:8080/"
        },
        "id": "kpFCThI_Imxg",
        "outputId": "d0116241-0c1c-45d1-fa1e-a0ce85fbd707"
      },
      "source": [
        "#revisamos los 10 tag que más aparecen\r\n",
        "content_vector['tagValue'].value_counts().head(10)"
      ],
      "execution_count": 40,
      "outputs": [
        {
          "output_type": "execute_result",
          "data": {
            "text/plain": [
              "rock                7503\n",
              "pop                 5418\n",
              "alternative         5251\n",
              "electronic          4672\n",
              "indie               4458\n",
              "female vocalists    4228\n",
              "80s                 2791\n",
              "dance               2739\n",
              "alternative rock    2631\n",
              "classic rock        2287\n",
              "Name: tagValue, dtype: int64"
            ]
          },
          "metadata": {
            "tags": []
          },
          "execution_count": 40
        }
      ]
    },
    {
      "cell_type": "code",
      "metadata": {
        "id": "HRJu-FKaI2iV"
      },
      "source": [
        "#eliminamos los tags con apariciones menor a 2100 para reducir los generos a 10\r\n",
        "sub_df = content_vector[content_vector.groupby('tagValue').tagValue.transform('count')>2100].copy() "
      ],
      "execution_count": 41,
      "outputs": []
    },
    {
      "cell_type": "code",
      "metadata": {
        "colab": {
          "base_uri": "https://localhost:8080/"
        },
        "id": "1-FN2ACMI9Dw",
        "outputId": "b8632a16-d2cd-4671-ace4-d95d320e46ad"
      },
      "source": [
        "len(sub_df)"
      ],
      "execution_count": 42,
      "outputs": [
        {
          "output_type": "execute_result",
          "data": {
            "text/plain": [
              "41978"
            ]
          },
          "metadata": {
            "tags": []
          },
          "execution_count": 42
        }
      ]
    },
    {
      "cell_type": "code",
      "metadata": {
        "id": "cB4y00tVJKvk"
      },
      "source": [
        "df_final= pd.merge(left=sub_df,right=useful_artist, left_on='artistID', right_on='artistID')\r\n",
        "#agrupamos los tags para cada artista\r\n",
        "df_final=df_final.groupby(['artistID', 'name'], as_index=False)['tagValue'].apply(','.join)"
      ],
      "execution_count": 44,
      "outputs": []
    },
    {
      "cell_type": "code",
      "metadata": {
        "colab": {
          "base_uri": "https://localhost:8080/",
          "height": 197
        },
        "id": "VYOxF4NZJbKO",
        "outputId": "b740851b-cf6a-418e-9a56-34cae46e57e6"
      },
      "source": [
        "df_final.sample(5)"
      ],
      "execution_count": 45,
      "outputs": [
        {
          "output_type": "execute_result",
          "data": {
            "text/html": [
              "<div>\n",
              "<style scoped>\n",
              "    .dataframe tbody tr th:only-of-type {\n",
              "        vertical-align: middle;\n",
              "    }\n",
              "\n",
              "    .dataframe tbody tr th {\n",
              "        vertical-align: top;\n",
              "    }\n",
              "\n",
              "    .dataframe thead th {\n",
              "        text-align: right;\n",
              "    }\n",
              "</style>\n",
              "<table border=\"1\" class=\"dataframe\">\n",
              "  <thead>\n",
              "    <tr style=\"text-align: right;\">\n",
              "      <th></th>\n",
              "      <th>artistID</th>\n",
              "      <th>name</th>\n",
              "      <th>tagValue</th>\n",
              "    </tr>\n",
              "  </thead>\n",
              "  <tbody>\n",
              "    <tr>\n",
              "      <th>3091</th>\n",
              "      <td>6245</td>\n",
              "      <td>Мумий Тролль</td>\n",
              "      <td>rock</td>\n",
              "    </tr>\n",
              "    <tr>\n",
              "      <th>5721</th>\n",
              "      <td>16633</td>\n",
              "      <td>There Will Be Fireworks</td>\n",
              "      <td>indie</td>\n",
              "    </tr>\n",
              "    <tr>\n",
              "      <th>1476</th>\n",
              "      <td>2462</td>\n",
              "      <td>Reik</td>\n",
              "      <td>pop,pop</td>\n",
              "    </tr>\n",
              "    <tr>\n",
              "      <th>909</th>\n",
              "      <td>1343</td>\n",
              "      <td>Queensrÿche</td>\n",
              "      <td>80s,80s,80s</td>\n",
              "    </tr>\n",
              "    <tr>\n",
              "      <th>1544</th>\n",
              "      <td>2572</td>\n",
              "      <td>Minus the Bear</td>\n",
              "      <td>electronic,rock,rock,alternative,alternative,a...</td>\n",
              "    </tr>\n",
              "  </tbody>\n",
              "</table>\n",
              "</div>"
            ],
            "text/plain": [
              "      artistID  ...                                           tagValue\n",
              "3091      6245  ...                                               rock\n",
              "5721     16633  ...                                              indie\n",
              "1476      2462  ...                                            pop,pop\n",
              "909       1343  ...                                        80s,80s,80s\n",
              "1544      2572  ...  electronic,rock,rock,alternative,alternative,a...\n",
              "\n",
              "[5 rows x 3 columns]"
            ]
          },
          "metadata": {
            "tags": []
          },
          "execution_count": 45
        }
      ]
    },
    {
      "cell_type": "code",
      "metadata": {
        "id": "hTWudLctJitE"
      },
      "source": [
        "#  Iniciamos tfidf vectorizer\r\n",
        "tf=TfidfVectorizer(analyzer='word',ngram_range=(1,1),stop_words='english', min_df=0)\r\n",
        "# Fit and transform \r\n",
        "tfidf_matrix = tf.fit_transform(df_final['tagValue'])"
      ],
      "execution_count": 46,
      "outputs": []
    },
    {
      "cell_type": "code",
      "metadata": {
        "colab": {
          "base_uri": "https://localhost:8080/"
        },
        "id": "sQxKB2y1Jt1C",
        "outputId": "b3416e24-817a-46c6-f840-218e0e33c02d"
      },
      "source": [
        "tfidf_matrix.shape"
      ],
      "execution_count": 47,
      "outputs": [
        {
          "output_type": "execute_result",
          "data": {
            "text/plain": [
              "(6111, 10)"
            ]
          },
          "metadata": {
            "tags": []
          },
          "execution_count": 47
        }
      ]
    },
    {
      "cell_type": "code",
      "metadata": {
        "id": "kJ29Pyl7JydU"
      },
      "source": [
        "cos_similarities = cosine_similarity(tfidf_matrix,tfidf_matrix)"
      ],
      "execution_count": 49,
      "outputs": []
    },
    {
      "cell_type": "code",
      "metadata": {
        "id": "VozhYzJCJ2-v"
      },
      "source": [
        "df_final_2=df_final.reset_index()\r\n",
        "art_name=df_final_2['name']\r\n",
        "indices=pd.Series(df_final_2.index, index=df_final_2['name'])"
      ],
      "execution_count": 50,
      "outputs": []
    },
    {
      "cell_type": "code",
      "metadata": {
        "id": "6hAzv5tZJ7Lo"
      },
      "source": [
        "def get_recommendations(artist_name): #armamos un sistema de recomendacion basado en contenido\r\n",
        "  idx=indices[artist_name]\r\n",
        "  sim_scores=list(enumerate(cos_similarities[idx]))\r\n",
        "  sim_scores=sorted(sim_scores, key=lambda x: x[1], reverse= True)\r\n",
        "  sim_scores=sim_scores[1:31]\r\n",
        "  artist_indices= [i[0] for i in sim_scores]\r\n",
        "  return art_name.iloc[artist_indices]"
      ],
      "execution_count": 51,
      "outputs": []
    },
    {
      "cell_type": "code",
      "metadata": {
        "colab": {
          "base_uri": "https://localhost:8080/"
        },
        "id": "qFkXt2D0KCCg",
        "outputId": "c0f75c23-a821-4215-ed83-f74f88e89070"
      },
      "source": [
        "get_recommendations('Nirvana').head(10)"
      ],
      "execution_count": 52,
      "outputs": [
        {
          "output_type": "execute_result",
          "data": {
            "text/plain": [
              "1421                        Creed\n",
              "294         The Smashing Pumpkins\n",
              "1200                   Audioslave\n",
              "1598                     Anberlin\n",
              "1965               Counting Crows\n",
              "280     Móveis Coloniais de Acaju\n",
              "337            30 Seconds to Mars\n",
              "128           My Chemical Romance\n",
              "3691                         Live\n",
              "110             Poets of the Fall\n",
              "Name: name, dtype: object"
            ]
          },
          "metadata": {
            "tags": []
          },
          "execution_count": 52
        }
      ]
    },
    {
      "cell_type": "code",
      "metadata": {
        "colab": {
          "base_uri": "https://localhost:8080/"
        },
        "id": "9W4sS6sUKI06",
        "outputId": "98e1a3f3-96ea-4fa4-8dc2-072f688f0efc"
      },
      "source": [
        "get_recommendations('The Strokes').head(10)"
      ],
      "execution_count": 53,
      "outputs": [
        {
          "output_type": "execute_result",
          "data": {
            "text/plain": [
              "2269         Cold War Kids\n",
              "144          Kings of Leon\n",
              "2539                   Ash\n",
              "94           Stereophonics\n",
              "145            The Killers\n",
              "4795         Cheap Mondays\n",
              "5212      Sleeping at Last\n",
              "5268           Ecos Falsos\n",
              "1963        Phantom Planet\n",
              "2624    Ocean Colour Scene\n",
              "Name: name, dtype: object"
            ]
          },
          "metadata": {
            "tags": []
          },
          "execution_count": 53
        }
      ]
    }
  ]
}